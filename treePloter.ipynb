{
 "cells": [
  {
   "cell_type": "code",
   "execution_count": 17,
   "metadata": {},
   "outputs": [],
   "source": [
    "from math import log"
   ]
  },
  {
   "cell_type": "code",
   "execution_count": 18,
   "metadata": {},
   "outputs": [],
   "source": [
    "def calcShannonEnt(dataSet):\n",
    "    num = len(dataSet)\n",
    "    dicts = {}\n",
    "    for featVec in dataSet:\n",
    "        currentLabel = featVec[-1]\n",
    "        dicts[currentLabel] = dicts.get(currentLabel,0)+1\n",
    "    shannonEnt = 0.0\n",
    "    for key in dicts:\n",
    "        numRatio = float(dicts[key]/num)\n",
    "        shannonEnt -= numRatio*log(numRatio,2)\n",
    "    return shannonEnt\n",
    "        "
   ]
  },
  {
   "cell_type": "code",
   "execution_count": 19,
   "metadata": {},
   "outputs": [],
   "source": [
    "def createDataSet():\n",
    "    dataSet = [[1,1,'yes'],[1,1,'yes'],[1,0,'no'],[0,1,'no'],[0,1,'no']]\n",
    "    labels = ['no surfacing','flippers']\n",
    "    return dataSet,labels"
   ]
  },
  {
   "cell_type": "code",
   "execution_count": 20,
   "metadata": {},
   "outputs": [
    {
     "name": "stdout",
     "output_type": "stream",
     "text": [
      "[[1, 1, 'yes'], [1, 1, 'yes'], [1, 0, 'no'], [0, 1, 'no'], [0, 1, 'no']]\n",
      "[[1, 1, 'maybe'], [1, 1, 'yes'], [1, 0, 'no'], [0, 1, 'no'], [0, 1, 'no']]\n",
      "1.3709505944546687\n"
     ]
    }
   ],
   "source": [
    "myDat,labels = createDataSet()\n",
    "print(myDat)\n",
    "#shannonEnt = calcShannonEnt(myDat)\n",
    "#print(shannonEnt)\n",
    "myDat[0][2]='maybe'\n",
    "print(myDat)\n",
    "shannonEnt = calcShannonEnt(myDat)\n",
    "print(shannonEnt)"
   ]
  },
  {
   "cell_type": "code",
   "execution_count": 21,
   "metadata": {},
   "outputs": [],
   "source": [
    "def spiltData(dataSet,axis,value):\n",
    "    retDataSet = []\n",
    "    for featVec in dataSet:\n",
    "        if featVec[axis] == value:\n",
    "            currentData = featVec[0:axis]\n",
    "            currentData.extend(featVec[axis+1:])\n",
    "            retDataSet.append(currentData)\n",
    "    return retDataSet   "
   ]
  },
  {
   "cell_type": "code",
   "execution_count": 25,
   "metadata": {},
   "outputs": [],
   "source": [
    "def chooseBestFeatureToSpilt(dataSet):\n",
    "    numFeature = len(dataSet[0])-1 #len(dataSet[0])是第一行的列数\n",
    "    bestEntropy = calcShannonEnt(dataSet)\n",
    "    bestFeature = -1\n",
    "    for i in range(numFeature):\n",
    "        #将dataSet中的数据先按行依次放入example中，然后取得example中的example[i]元素，放入列表featList中\n",
    "        #比如说特征有形状，大小，颜色　　featList是具体什么颜色　红黄蓝等\n",
    "        featList = [example[i] for example in dataSet]\n",
    "        uniqueValue = set(featList)#去重\n",
    "        newEntroy = 0.0\n",
    "        for j in uniqueValue:#对于每个颜色分离出来数据然后计算熵\n",
    "            subDataSet = spiltData(dataSet,i,j)\n",
    "            prob = len(subDataSet)/float(len(dataSet))#每个颜色的频率\n",
    "            newEntroy += prob*calcShannonEnt(subDataSet)#最后newEntroy是该特征的熵\n",
    "        if(newEntroy<bestEntropy):#如该熵比当前最小熵还小就替换\n",
    "            bestEntropy = newEntroy\n",
    "            bestFeature = i\n",
    "    return bestFeature\n",
    "    "
   ]
  },
  {
   "cell_type": "code",
   "execution_count": 26,
   "metadata": {},
   "outputs": [
    {
     "name": "stdout",
     "output_type": "stream",
     "text": [
      "0\n"
     ]
    }
   ],
   "source": [
    "dataSet,labels = createDataSet()\n",
    "bestFeature = chooseBestFeatureToSpilt(dataSet)\n",
    "print(bestFeature)"
   ]
  },
  {
   "cell_type": "code",
   "execution_count": null,
   "metadata": {},
   "outputs": [],
   "source": []
  }
 ],
 "metadata": {
  "kernelspec": {
   "display_name": "Python 3",
   "language": "python",
   "name": "python3"
  },
  "language_info": {
   "codemirror_mode": {
    "name": "ipython",
    "version": 3
   },
   "file_extension": ".py",
   "mimetype": "text/x-python",
   "name": "python",
   "nbconvert_exporter": "python",
   "pygments_lexer": "ipython3",
   "version": "3.6.5"
  }
 },
 "nbformat": 4,
 "nbformat_minor": 2
}
