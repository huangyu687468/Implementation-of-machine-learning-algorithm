{
 "cells": [
  {
   "cell_type": "code",
   "execution_count": 1,
   "metadata": {},
   "outputs": [],
   "source": [
    "from numpy import *\n",
    "import operator\n",
    "\n",
    "#进行数据准备\n",
    "labels=['A','A','B','B']\n",
    "dataSet=array([[1.0,1.1],[1.0,1.0],[0.0,0.0],[0.1,0.0]])\n"
   ]
  },
  {
   "cell_type": "code",
   "execution_count": 2,
   "metadata": {},
   "outputs": [],
   "source": [
    "def classify0(inx,dataSet,labels,k):\n",
    "    dataSetSize = dataSet.shape[0]\n",
    "    #inx初始是1行的数组，通过tile函数进行数组广播，把数组变成行数和dataSet行数相等\n",
    "    #对应位置相减之后通过平方测量距离\n",
    "    diffMat = tile(inx,(dataSetSize,1))-dataSet\n",
    "    sqDiffMat = diffMat ** 2 #平方距离\n",
    "    sqDistance = sqDiffMat.sum(axis=1)  #axis=0列　axis=1横\n",
    "    distances = sqDistance ** 0.5  #开根号\n",
    "    sortedDistances = distances.argsort()  #numpy.argsort() 函数返回的是数组值从小到大的索引值。\n",
    "\n",
    "    classCount = {}\n",
    "    #依据排序顺序从近到远依次查看ｋ个样例，记录类别和数量\n",
    "    for i in range (k):\n",
    "        voteLebel = labels[sortedDistances[i]]\n",
    "        classCount[voteLebel]=classCount.get(voteLebel,0)+1  #(key,dafault) 如果key不存在，返回默认值\n",
    "\n",
    "    #对记录类别数量按数量从大到小排序,并且将字典分解为元组列表\n",
    "    #dict.items()返回可遍历的(键, 值) 元组数组。operator.itemgetter(1)代表按照键值对中的值进行排序．reverse=True从大到小排序\n",
    "    sortedClassCount = sorted(classCount.items(),key=operator.itemgetter(1),reverse=True)\n",
    "  \n",
    "    return sortedClassCount[0][0]"
   ]
  },
  {
   "cell_type": "code",
   "execution_count": 3,
   "metadata": {},
   "outputs": [],
   "source": [
    "def file2matrix(filename):\n",
    "    fr = open(filename)#打开文件，返回对象\n",
    "    arrayOLines = fr.readlines()\n",
    "    numberOfLines = len(arrayOLines)#得到文件行数\n",
    "    returnMat = zeros((numberOfLines,3))#全0的矩阵，行是文件行数，列是3\n",
    "    classLabelVector = [] #标签存在元组中\n",
    "    index = 0\n",
    "    for line in arrayOLines:\n",
    "        line = line.strip()#Python strip() 方法用于移除字符串头尾指定的字符（默认为空格）或字符序列。不能删除中间部分的字符。\n",
    "        listFromLine = line.split('\\t') #split() 通过指定分隔符对字符串进行切片,此处是回车\n",
    "        returnMat[index,:] = listFromLine[0:3] #将从文件中读取到的数据存放在矩阵中\n",
    "        classLabelVector.append(int(listFromLine[-1]))\n",
    "        index+=1\n",
    "    fr.close()\n",
    "    return returnMat,classLabelVector"
   ]
  },
  {
   "cell_type": "code",
   "execution_count": 4,
   "metadata": {},
   "outputs": [],
   "source": [
    "datingDataMat,datingLabels=file2matrix('datingTestSet2.txt')\n"
   ]
  },
  {
   "cell_type": "code",
   "execution_count": 5,
   "metadata": {},
   "outputs": [
    {
     "data": {
      "text/plain": [
       "<Figure size 640x480 with 1 Axes>"
      ]
     },
     "metadata": {},
     "output_type": "display_data"
    }
   ],
   "source": [
    "import matplotlib\n",
    "import matplotlib.pyplot as plt\n",
    "fig = plt.figure()\n",
    "#add_subplot(349)参数349的意思是：将画布分割成3行4列，图像画在从左到右从上到下的第9块，当我们只想画一副图的时候，使用参数‘111’即可。\n",
    "ax = fig.add_subplot(111) #subplot() 函数允许你在同一图中绘制不同的东西。\n",
    "#scatter把点呈现出来　scatter函数的参数如下\n",
    "#def scatter(x, y, s=None, c=None, marker=None, cmap=None, norm=None, vmin=None, vmax=None, verts=None, \n",
    "#edgecolors=None, hold=None, data=None, **kwargs) x,y是数据　ｓ是大小　ｃ是颜色\n",
    "\n",
    "#黄色极具魅力，蓝色一般，紫色不喜欢\n",
    "#ax.scatter(datingDataMat[:,1],datingDataMat[:,2],15.0*array(datingLabels),15.0*array(datingLabels))\n",
    "#plt.show()\n",
    "ax.scatter(datingDataMat[:,0],datingDataMat[:,1],15.0*array(datingLabels),15.0*array(datingLabels))\n",
    "plt.show()"
   ]
  },
  {
   "cell_type": "code",
   "execution_count": 6,
   "metadata": {},
   "outputs": [],
   "source": [
    "def autoNorm(dataSet):\n",
    "    minVals=dataSet.min(0)#0是列，1是行\n",
    "    maxVals=dataSet.max(0)\n",
    "    ranges=maxVals-minVals\n",
    "    m=dataSet.shape[0]\n",
    "    normDataSet=zeros(shape(dataSet)) \n",
    "    normDataSet=dataSet-tile(minVals,(m,1))\n",
    "    normDataSet=normDataSet/tile(ranges,(m,1))\n",
    "    return normDataSet,ranges,minVals"
   ]
  },
  {
   "cell_type": "code",
   "execution_count": 7,
   "metadata": {},
   "outputs": [
    {
     "name": "stdout",
     "output_type": "stream",
     "text": [
      "[[0.44832535 0.39805139 0.56233353]\n",
      " [0.15873259 0.34195467 0.98724416]\n",
      " [0.28542943 0.06892523 0.47449629]\n",
      " ...\n",
      " [0.29115949 0.50910294 0.51079493]\n",
      " [0.52711097 0.43665451 0.4290048 ]\n",
      " [0.47940793 0.3768091  0.78571804]]\n"
     ]
    }
   ],
   "source": [
    "normMat,ranges,minVals=autoNorm(datingDataMat)\n",
    "print(normMat)"
   ]
  },
  {
   "cell_type": "code",
   "execution_count": 8,
   "metadata": {},
   "outputs": [],
   "source": [
    "def datingClassTest():\n",
    "    hoRatio = 0.1\n",
    "    datingDataMat,datingLabels = file2matrix('datingTestSet2.txt') #读取文件内容到矩阵\n",
    "    normMat,ranges,minVals = autoNorm(datingDataMat)#将矩阵标准化，让每个特征都在0-1之间\n",
    "    m = normMat.shape[0]#m是矩阵行数，即样例个数\n",
    "    testNum = int(m*hoRatio)#测试的个数\n",
    "    errorNum = 0.0#累计判断错误的个数\n",
    "    for i in range(testNum):\n",
    "        testResult = classify0(normMat[i,:],normMat[testNum:m,:],datingLabels[testNum:m],3)\n",
    "        print(\"the classifyier came back with:%d,the real answer is:%d\" %(testResult,datingLabels[i]))\n",
    "        if(testResult!=datingLabels[i]):\n",
    "            errorNum+=1\n",
    "    print(\"the total error rate is:%d\" % (errorNum/float(testNum)))\n",
    "    "
   ]
  },
  {
   "cell_type": "code",
   "execution_count": 9,
   "metadata": {},
   "outputs": [],
   "source": [
    "#datingClassTest()"
   ]
  },
  {
   "cell_type": "code",
   "execution_count": 10,
   "metadata": {},
   "outputs": [],
   "source": [
    "def classifyPerson():\n",
    "    result=['not at all','a little like','very like']\n",
    "    #读入待测试数据\n",
    "    ffMile = float(input(\"flier miles per year?\"))\n",
    "    percentTats = float(input(\"pencentage of time spent playing video game?\"))\n",
    "    iceCream = float(input(\"liters of ice cream consumed per year?\"))\n",
    "    testMat = [ffMile,percentTats,iceCream]#测试矩阵\n",
    "    datingDataMat,datingLabels = file2matrix('datingTestSet2.txt')\n",
    "    normMat,ranges,minVals = autoNorm(datingDataMat)\n",
    "    testResult = classify0(((testMat-minVals)/ranges),normMat,datingLabels,3)#得到测试结果\n",
    "    print(\"test person result:\", (result[testResult-1]))\n",
    "    "
   ]
  },
  {
   "cell_type": "code",
   "execution_count": 11,
   "metadata": {},
   "outputs": [],
   "source": [
    "#classifyPerson()"
   ]
  },
  {
   "cell_type": "code",
   "execution_count": 12,
   "metadata": {},
   "outputs": [],
   "source": [
    "def img2vector(filename):#将文件读入到一维vector中，txt文件是32*32,读入为1*1024\n",
    "    returnVect = zeros((1,1024)) \n",
    "    fr = open(filename)\n",
    "    for i in range (32):\n",
    "        linestr = fr.readline()\n",
    "        for j in range (32):\n",
    "            returnVect[0,j+i*32]=int(linestr[j])\n",
    "    return returnVect\n",
    "    "
   ]
  },
  {
   "cell_type": "code",
   "execution_count": 18,
   "metadata": {},
   "outputs": [
    {
     "name": "stdout",
     "output_type": "stream",
     "text": [
      "[0. 0. 0. 0. 0. 0. 0. 0. 0. 0. 0. 0. 0. 0. 1. 1. 1. 1. 0. 0. 0. 0. 0. 0.\n",
      " 0. 0. 0. 0. 0. 0. 0. 0.]\n"
     ]
    }
   ],
   "source": [
    "testVector = img2vector('testDigits/0_13.txt')\n",
    "#print(testVector[0,0:32])"
   ]
  },
  {
   "cell_type": "code",
   "execution_count": 52,
   "metadata": {},
   "outputs": [],
   "source": [
    "def handwritingClassTest():\n",
    "    hwLabels = []\n",
    "    #os.listdir() 方法用于返回指定的文件夹包含的文件或文件夹的名字的列表。这个列表以字母顺序。 它不包括 '.' 和'..' 即使它在文件夹中。\n",
    "    trainingFileList = listdir('trainingDigits')#读入顺序和原来文件排列顺序不一定一致\n",
    "    m = len(trainingFileList)\n",
    "    trainingMat = zeros((m,1024))\n",
    "    for i in range(m):\n",
    "        fileName = trainingFileList[i]\n",
    "        name = fileName.split('.')[0]\n",
    "        label = name.split('_')[0]\n",
    "        hwLabels.append(label)\n",
    "        trainingMat[i,:] = img2vector('trainingDigits/%s' %fileName)\n",
    "\n",
    "    error = 0.0\n",
    "    testFileList = listdir('testDigits')\n",
    "    n = len(testFileList)\n",
    "    testMat = zeros((1,1024))\n",
    "    for j in range(n):\n",
    "        testFileName = testFileList[j]\n",
    "        testName = testFileName.split('.')[0]\n",
    "        testLabel = int(testName.split('_')[0])\n",
    "        testMat = img2vector('testDigits/%s' % testFileName)\n",
    "        result = int(classify0(testMat,trainingMat,hwLabels,2))\n",
    "        \n",
    "        print(\"the predict is:%d,the real result is:%d\" % (result,testLabel))\n",
    "        if(testLabel!=result):\n",
    "            error+=1\n",
    "    print(\"the error rate is:%d\" % (error/float(n)))\n",
    "    "
   ]
  },
  {
   "cell_type": "code",
   "execution_count": 54,
   "metadata": {},
   "outputs": [],
   "source": [
    "from os import listdir\n",
    "#handwritingClassTest()"
   ]
  }
 ],
 "metadata": {
  "kernelspec": {
   "display_name": "Python 3",
   "language": "python",
   "name": "python3"
  },
  "language_info": {
   "codemirror_mode": {
    "name": "ipython",
    "version": 3
   },
   "file_extension": ".py",
   "mimetype": "text/x-python",
   "name": "python",
   "nbconvert_exporter": "python",
   "pygments_lexer": "ipython3",
   "version": "3.6.5"
  }
 },
 "nbformat": 4,
 "nbformat_minor": 2
}
